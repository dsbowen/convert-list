{
 "cells": [
  {
   "cell_type": "code",
   "execution_count": 1,
   "metadata": {
    "ExecuteTime": {
     "end_time": "2020-10-17T15:05:28.479316Z",
     "start_time": "2020-10-17T15:05:28.454643Z"
    }
   },
   "outputs": [
    {
     "data": {
      "text/plain": [
       "['hello, World', 'hello, Moon']"
      ]
     },
     "execution_count": 1,
     "metadata": {},
     "output_type": "execute_result"
    }
   ],
   "source": [
    "from convert_list import ConvertList\n",
    "\n",
    "class HelloList(ConvertList):\n",
    "    @classmethod\n",
    "    def convert(cls, item):\n",
    "        return 'hello, '+item\n",
    "    \n",
    "l = HelloList(['World', 'Moon'])\n",
    "l"
   ]
  },
  {
   "cell_type": "code",
   "execution_count": 2,
   "metadata": {
    "ExecuteTime": {
     "end_time": "2020-10-17T15:05:28.489746Z",
     "start_time": "2020-10-17T15:05:28.482415Z"
    }
   },
   "outputs": [
    {
     "data": {
      "text/plain": [
       "['hello, World', 'hello, Moon', 'hello, Star']"
      ]
     },
     "execution_count": 2,
     "metadata": {},
     "output_type": "execute_result"
    }
   ],
   "source": [
    "# add\n",
    "p = l + ['Star']\n",
    "p"
   ]
  },
  {
   "cell_type": "code",
   "execution_count": 3,
   "metadata": {
    "ExecuteTime": {
     "end_time": "2020-10-17T15:05:28.504319Z",
     "start_time": "2020-10-17T15:05:28.493105Z"
    }
   },
   "outputs": [
    {
     "data": {
      "text/plain": [
       "['hello, World', 'hello, Moon', 'hello, Star']"
      ]
     },
     "execution_count": 3,
     "metadata": {},
     "output_type": "execute_result"
    }
   ],
   "source": [
    "# getitem\n",
    "p = l[:2]\n",
    "p += ['Star']\n",
    "p"
   ]
  },
  {
   "cell_type": "code",
   "execution_count": 4,
   "metadata": {
    "ExecuteTime": {
     "end_time": "2020-10-17T15:05:28.522529Z",
     "start_time": "2020-10-17T15:05:28.509461Z"
    }
   },
   "outputs": [
    {
     "data": {
      "text/plain": [
       "['hello, World', 'hello, Moon', 'hello, Star']"
      ]
     },
     "execution_count": 4,
     "metadata": {},
     "output_type": "execute_result"
    }
   ],
   "source": [
    "# iadd\n",
    "l += ['Star']\n",
    "l"
   ]
  },
  {
   "cell_type": "code",
   "execution_count": 5,
   "metadata": {
    "ExecuteTime": {
     "end_time": "2020-10-17T15:05:28.558430Z",
     "start_time": "2020-10-17T15:05:28.528212Z"
    }
   },
   "outputs": [
    {
     "data": {
      "text/plain": [
       "['hello, World', 'hello, Moon', 'hello, World', 'hello, Moon']"
      ]
     },
     "execution_count": 5,
     "metadata": {},
     "output_type": "execute_result"
    }
   ],
   "source": [
    "# imul\n",
    "l = HelloList(['World', 'Moon'])\n",
    "l *= 2\n",
    "l"
   ]
  },
  {
   "cell_type": "code",
   "execution_count": 6,
   "metadata": {
    "ExecuteTime": {
     "end_time": "2020-10-17T15:05:28.572229Z",
     "start_time": "2020-10-17T15:05:28.561882Z"
    }
   },
   "outputs": [
    {
     "data": {
      "text/plain": [
       "['hello, World', 'hello, Moon', 'hello, World', 'hello, Moon']"
      ]
     },
     "execution_count": 6,
     "metadata": {},
     "output_type": "execute_result"
    }
   ],
   "source": [
    "# mul\n",
    "l = HelloList(['World', 'Moon']) * 2\n",
    "l"
   ]
  },
  {
   "cell_type": "code",
   "execution_count": 7,
   "metadata": {
    "ExecuteTime": {
     "end_time": "2020-10-17T15:05:28.615884Z",
     "start_time": "2020-10-17T15:05:28.578777Z"
    }
   },
   "outputs": [
    {
     "data": {
      "text/plain": [
       "['hello, Sun', 'hello, Dwarf', 'hello, Star']"
      ]
     },
     "execution_count": 7,
     "metadata": {},
     "output_type": "execute_result"
    }
   ],
   "source": [
    "# setitem\n",
    "l = HelloList(['World', 'Moon', 'Star'])\n",
    "l[:2] = ['Sun', 'Dwarf']\n",
    "l"
   ]
  },
  {
   "cell_type": "code",
   "execution_count": 8,
   "metadata": {
    "ExecuteTime": {
     "end_time": "2020-10-17T15:05:28.633362Z",
     "start_time": "2020-10-17T15:05:28.619458Z"
    }
   },
   "outputs": [
    {
     "data": {
      "text/plain": [
       "['hello, World', 'hello, Moon', 'hello, Star']"
      ]
     },
     "execution_count": 8,
     "metadata": {},
     "output_type": "execute_result"
    }
   ],
   "source": [
    "# append\n",
    "l = HelloList(['World', 'Moon'])\n",
    "l.append('Star')\n",
    "l"
   ]
  },
  {
   "cell_type": "code",
   "execution_count": 9,
   "metadata": {
    "ExecuteTime": {
     "end_time": "2020-10-17T15:05:28.652433Z",
     "start_time": "2020-10-17T15:05:28.637055Z"
    }
   },
   "outputs": [
    {
     "data": {
      "text/plain": [
       "['hello, World', 'hello, Moon', 'hello, Star']"
      ]
     },
     "execution_count": 9,
     "metadata": {},
     "output_type": "execute_result"
    }
   ],
   "source": [
    "# copy\n",
    "l = HelloList(['World', 'Moon'])\n",
    "p = l.copy()\n",
    "p.append('Star')\n",
    "p"
   ]
  },
  {
   "cell_type": "code",
   "execution_count": 10,
   "metadata": {
    "ExecuteTime": {
     "end_time": "2020-10-17T15:05:28.687497Z",
     "start_time": "2020-10-17T15:05:28.660391Z"
    }
   },
   "outputs": [
    {
     "data": {
      "text/plain": [
       "['hello, World', 'hello, Moon', 'hello, Star']"
      ]
     },
     "execution_count": 10,
     "metadata": {},
     "output_type": "execute_result"
    }
   ],
   "source": [
    "# extend\n",
    "l.extend(['Star'])\n",
    "l"
   ]
  },
  {
   "cell_type": "code",
   "execution_count": 11,
   "metadata": {
    "ExecuteTime": {
     "end_time": "2020-10-17T15:05:28.716383Z",
     "start_time": "2020-10-17T15:05:28.698859Z"
    }
   },
   "outputs": [
    {
     "data": {
      "text/plain": [
       "['hello, Star', 'hello, World', 'hello, Moon']"
      ]
     },
     "execution_count": 11,
     "metadata": {},
     "output_type": "execute_result"
    }
   ],
   "source": [
    "# insert\n",
    "l = HelloList(['World', 'Moon'])\n",
    "l.insert(0, 'Star')\n",
    "l"
   ]
  },
  {
   "cell_type": "code",
   "execution_count": null,
   "metadata": {},
   "outputs": [],
   "source": []
  }
 ],
 "metadata": {
  "kernelspec": {
   "display_name": "Python 3",
   "language": "python",
   "name": "python3"
  },
  "language_info": {
   "codemirror_mode": {
    "name": "ipython",
    "version": 3
   },
   "file_extension": ".py",
   "mimetype": "text/x-python",
   "name": "python",
   "nbconvert_exporter": "python",
   "pygments_lexer": "ipython3",
   "version": "3.6.8"
  },
  "toc": {
   "base_numbering": 1,
   "nav_menu": {},
   "number_sections": true,
   "sideBar": true,
   "skip_h1_title": false,
   "title_cell": "Table of Contents",
   "title_sidebar": "Contents",
   "toc_cell": false,
   "toc_position": {},
   "toc_section_display": true,
   "toc_window_display": false
  },
  "varInspector": {
   "cols": {
    "lenName": 16,
    "lenType": 16,
    "lenVar": 40
   },
   "kernels_config": {
    "python": {
     "delete_cmd_postfix": "",
     "delete_cmd_prefix": "del ",
     "library": "var_list.py",
     "varRefreshCmd": "print(var_dic_list())"
    },
    "r": {
     "delete_cmd_postfix": ") ",
     "delete_cmd_prefix": "rm(",
     "library": "var_list.r",
     "varRefreshCmd": "cat(var_dic_list()) "
    }
   },
   "types_to_exclude": [
    "module",
    "function",
    "builtin_function_or_method",
    "instance",
    "_Feature"
   ],
   "window_display": false
  }
 },
 "nbformat": 4,
 "nbformat_minor": 4
}
